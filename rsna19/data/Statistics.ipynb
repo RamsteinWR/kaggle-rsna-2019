{
 "cells": [
  {
   "cell_type": "code",
   "execution_count": 96,
   "metadata": {},
   "outputs": [],
   "source": [
    "from glob import glob\n",
    "import json\n",
    "import pydicom\n",
    "import pickle\n",
    "import pandas as pd\n",
    "import matplotlib.pylab as plt\n",
    "\n",
    "DICOM_TAGS_DF_PATH = '/kolos/m2/ct/data/rsna/df.pkl'\n",
    "LABELS_PATH = '/kolos/storage/ct/data/rsna/stage_1_train.csv'"
   ]
  },
  {
   "cell_type": "code",
   "execution_count": 18,
   "metadata": {},
   "outputs": [],
   "source": [
    "def load_dicom_tags():\n",
    "    with open(DICOM_TAGS_DF_PATH, 'rb') as f:\n",
    "        df = pickle.load(f)\n",
    "\n",
    "    return df\n",
    "\n",
    "def load_labels():\n",
    "    labels = pd.read_csv(LABELS_PATH)\n",
    "    labels[['SOPInstanceUID', 'Disease']] = labels.ID.str.rsplit(\"_\", 1, expand=True)\n",
    "    labels = labels[['SOPInstanceUID', 'Disease', 'Label']]\n",
    "    labels = pd.pivot_table(labels, index=\"SOPInstanceUID\", columns=\"Disease\", values=\"Label\")\n",
    "    \n",
    "    return labels\n",
    "\n",
    "\n",
    "tags = load_dicom_tags()\n",
    "labels = load_labels()\n",
    "\n",
    "df = labels.merge(tags, on='SOPInstanceUID', how='outer')"
   ]
  },
  {
   "cell_type": "markdown",
   "metadata": {},
   "source": [
    "# Columns with constant values"
   ]
  },
  {
   "cell_type": "code",
   "execution_count": 100,
   "metadata": {},
   "outputs": [
    {
     "name": "stdout",
     "output_type": "stream",
     "text": [
      "{'Modality': 'CT', 'StudyID': '', 'SamplesPerPixel': 1, 'PhotometricInterpretation': 'MONOCHROME2', 'BitsAllocated': 16, 'RescaleSlope': 1.0}\n"
     ]
    }
   ],
   "source": [
    "names = {}\n",
    "for column in df.columns:\n",
    "    try:\n",
    "        unique_values = df[column].unique()\n",
    "        if len(unique_values) == 1:\n",
    "            names[column] = unique_values[0]\n",
    "    except:\n",
    "        pass\n",
    "\n",
    "df = df.drop(columns=names.keys())\n",
    "print(names)"
   ]
  },
  {
   "cell_type": "code",
   "execution_count": 101,
   "metadata": {},
   "outputs": [
    {
     "data": {
      "text/html": [
       "<div>\n",
       "<style scoped>\n",
       "    .dataframe tbody tr th:only-of-type {\n",
       "        vertical-align: middle;\n",
       "    }\n",
       "\n",
       "    .dataframe tbody tr th {\n",
       "        vertical-align: top;\n",
       "    }\n",
       "\n",
       "    .dataframe thead th {\n",
       "        text-align: right;\n",
       "    }\n",
       "</style>\n",
       "<table border=\"1\" class=\"dataframe\">\n",
       "  <thead>\n",
       "    <tr style=\"text-align: right;\">\n",
       "      <th></th>\n",
       "      <th>SOPInstanceUID</th>\n",
       "      <th>any</th>\n",
       "      <th>epidural</th>\n",
       "      <th>intraparenchymal</th>\n",
       "      <th>intraventricular</th>\n",
       "      <th>subarachnoid</th>\n",
       "      <th>subdural</th>\n",
       "      <th>PatientID</th>\n",
       "      <th>StudyInstanceUID</th>\n",
       "      <th>SeriesInstanceUID</th>\n",
       "      <th>...</th>\n",
       "      <th>Columns</th>\n",
       "      <th>PixelSpacing</th>\n",
       "      <th>BitsStored</th>\n",
       "      <th>HighBit</th>\n",
       "      <th>PixelRepresentation</th>\n",
       "      <th>WindowCenter</th>\n",
       "      <th>WindowWidth</th>\n",
       "      <th>RescaleIntercept</th>\n",
       "      <th>path</th>\n",
       "      <th>subset</th>\n",
       "    </tr>\n",
       "  </thead>\n",
       "  <tbody>\n",
       "    <tr>\n",
       "      <th>0</th>\n",
       "      <td>ID_000039fa0</td>\n",
       "      <td>0.0</td>\n",
       "      <td>0.0</td>\n",
       "      <td>0.0</td>\n",
       "      <td>0.0</td>\n",
       "      <td>0.0</td>\n",
       "      <td>0.0</td>\n",
       "      <td>ID_eeaf99e7</td>\n",
       "      <td>ID_134d398b61</td>\n",
       "      <td>ID_5f8484c3e0</td>\n",
       "      <td>...</td>\n",
       "      <td>512</td>\n",
       "      <td>[0.488281, 0.488281]</td>\n",
       "      <td>16</td>\n",
       "      <td>15</td>\n",
       "      <td>1</td>\n",
       "      <td>30</td>\n",
       "      <td>80</td>\n",
       "      <td>-1024.0</td>\n",
       "      <td>/kolos/storage/ct/data/rsna/stage_1_train_imag...</td>\n",
       "      <td>train</td>\n",
       "    </tr>\n",
       "    <tr>\n",
       "      <th>1</th>\n",
       "      <td>ID_00005679d</td>\n",
       "      <td>0.0</td>\n",
       "      <td>0.0</td>\n",
       "      <td>0.0</td>\n",
       "      <td>0.0</td>\n",
       "      <td>0.0</td>\n",
       "      <td>0.0</td>\n",
       "      <td>ID_18f2d431</td>\n",
       "      <td>ID_b5c26cda09</td>\n",
       "      <td>ID_203cd6ec46</td>\n",
       "      <td>...</td>\n",
       "      <td>512</td>\n",
       "      <td>[0.460938, 0.460938]</td>\n",
       "      <td>16</td>\n",
       "      <td>15</td>\n",
       "      <td>1</td>\n",
       "      <td>50</td>\n",
       "      <td>100</td>\n",
       "      <td>-1024.0</td>\n",
       "      <td>/kolos/storage/ct/data/rsna/stage_1_train_imag...</td>\n",
       "      <td>train</td>\n",
       "    </tr>\n",
       "    <tr>\n",
       "      <th>2</th>\n",
       "      <td>ID_00008ce3c</td>\n",
       "      <td>0.0</td>\n",
       "      <td>0.0</td>\n",
       "      <td>0.0</td>\n",
       "      <td>0.0</td>\n",
       "      <td>0.0</td>\n",
       "      <td>0.0</td>\n",
       "      <td>ID_ce8a3cd2</td>\n",
       "      <td>ID_974735bf79</td>\n",
       "      <td>ID_3780d48b28</td>\n",
       "      <td>...</td>\n",
       "      <td>512</td>\n",
       "      <td>[0.48828125, 0.48828125]</td>\n",
       "      <td>12</td>\n",
       "      <td>11</td>\n",
       "      <td>0</td>\n",
       "      <td>[00040, 00040]</td>\n",
       "      <td>[00080, 00080]</td>\n",
       "      <td>-1024.0</td>\n",
       "      <td>/kolos/storage/ct/data/rsna/stage_1_train_imag...</td>\n",
       "      <td>train</td>\n",
       "    </tr>\n",
       "    <tr>\n",
       "      <th>3</th>\n",
       "      <td>ID_0000950d7</td>\n",
       "      <td>0.0</td>\n",
       "      <td>0.0</td>\n",
       "      <td>0.0</td>\n",
       "      <td>0.0</td>\n",
       "      <td>0.0</td>\n",
       "      <td>0.0</td>\n",
       "      <td>ID_d278c67b</td>\n",
       "      <td>ID_8881b1c4b1</td>\n",
       "      <td>ID_84296c3845</td>\n",
       "      <td>...</td>\n",
       "      <td>512</td>\n",
       "      <td>[0.494863, 0.494863]</td>\n",
       "      <td>16</td>\n",
       "      <td>15</td>\n",
       "      <td>1</td>\n",
       "      <td>35</td>\n",
       "      <td>135</td>\n",
       "      <td>-1024.0</td>\n",
       "      <td>/kolos/storage/ct/data/rsna/stage_1_train_imag...</td>\n",
       "      <td>train</td>\n",
       "    </tr>\n",
       "    <tr>\n",
       "      <th>4</th>\n",
       "      <td>ID_0000aee4b</td>\n",
       "      <td>0.0</td>\n",
       "      <td>0.0</td>\n",
       "      <td>0.0</td>\n",
       "      <td>0.0</td>\n",
       "      <td>0.0</td>\n",
       "      <td>0.0</td>\n",
       "      <td>ID_ce5f0b6c</td>\n",
       "      <td>ID_9aad90e421</td>\n",
       "      <td>ID_1e59488a44</td>\n",
       "      <td>...</td>\n",
       "      <td>512</td>\n",
       "      <td>[0.423828125, 0.423828125]</td>\n",
       "      <td>12</td>\n",
       "      <td>11</td>\n",
       "      <td>0</td>\n",
       "      <td>[00036, 00036]</td>\n",
       "      <td>[00080, 00080]</td>\n",
       "      <td>-1024.0</td>\n",
       "      <td>/kolos/storage/ct/data/rsna/stage_1_train_imag...</td>\n",
       "      <td>train</td>\n",
       "    </tr>\n",
       "  </tbody>\n",
       "</table>\n",
       "<p>5 rows × 23 columns</p>\n",
       "</div>"
      ],
      "text/plain": [
       "  SOPInstanceUID  any  epidural  intraparenchymal  intraventricular  \\\n",
       "0   ID_000039fa0  0.0       0.0               0.0               0.0   \n",
       "1   ID_00005679d  0.0       0.0               0.0               0.0   \n",
       "2   ID_00008ce3c  0.0       0.0               0.0               0.0   \n",
       "3   ID_0000950d7  0.0       0.0               0.0               0.0   \n",
       "4   ID_0000aee4b  0.0       0.0               0.0               0.0   \n",
       "\n",
       "   subarachnoid  subdural    PatientID StudyInstanceUID SeriesInstanceUID  \\\n",
       "0           0.0       0.0  ID_eeaf99e7    ID_134d398b61     ID_5f8484c3e0   \n",
       "1           0.0       0.0  ID_18f2d431    ID_b5c26cda09     ID_203cd6ec46   \n",
       "2           0.0       0.0  ID_ce8a3cd2    ID_974735bf79     ID_3780d48b28   \n",
       "3           0.0       0.0  ID_d278c67b    ID_8881b1c4b1     ID_84296c3845   \n",
       "4           0.0       0.0  ID_ce5f0b6c    ID_9aad90e421     ID_1e59488a44   \n",
       "\n",
       "   ... Columns                PixelSpacing  BitsStored  HighBit  \\\n",
       "0  ...     512        [0.488281, 0.488281]          16       15   \n",
       "1  ...     512        [0.460938, 0.460938]          16       15   \n",
       "2  ...     512    [0.48828125, 0.48828125]          12       11   \n",
       "3  ...     512        [0.494863, 0.494863]          16       15   \n",
       "4  ...     512  [0.423828125, 0.423828125]          12       11   \n",
       "\n",
       "  PixelRepresentation    WindowCenter     WindowWidth  RescaleIntercept  \\\n",
       "0                   1              30              80           -1024.0   \n",
       "1                   1              50             100           -1024.0   \n",
       "2                   0  [00040, 00040]  [00080, 00080]           -1024.0   \n",
       "3                   1              35             135           -1024.0   \n",
       "4                   0  [00036, 00036]  [00080, 00080]           -1024.0   \n",
       "\n",
       "                                                path subset  \n",
       "0  /kolos/storage/ct/data/rsna/stage_1_train_imag...  train  \n",
       "1  /kolos/storage/ct/data/rsna/stage_1_train_imag...  train  \n",
       "2  /kolos/storage/ct/data/rsna/stage_1_train_imag...  train  \n",
       "3  /kolos/storage/ct/data/rsna/stage_1_train_imag...  train  \n",
       "4  /kolos/storage/ct/data/rsna/stage_1_train_imag...  train  \n",
       "\n",
       "[5 rows x 23 columns]"
      ]
     },
     "execution_count": 101,
     "metadata": {},
     "output_type": "execute_result"
    }
   ],
   "source": [
    "df.head()"
   ]
  },
  {
   "cell_type": "code",
   "execution_count": 102,
   "metadata": {},
   "outputs": [
    {
     "data": {
      "text/plain": [
       "Index(['SOPInstanceUID', 'any', 'epidural', 'intraparenchymal',\n",
       "       'intraventricular', 'subarachnoid', 'subdural', 'PatientID',\n",
       "       'StudyInstanceUID', 'SeriesInstanceUID', 'ImagePositionPatient',\n",
       "       'ImageOrientationPatient', 'Rows', 'Columns', 'PixelSpacing',\n",
       "       'BitsStored', 'HighBit', 'PixelRepresentation', 'WindowCenter',\n",
       "       'WindowWidth', 'RescaleIntercept', 'path', 'subset'],\n",
       "      dtype='object')"
      ]
     },
     "execution_count": 102,
     "metadata": {},
     "output_type": "execute_result"
    }
   ],
   "source": [
    "df.columns"
   ]
  },
  {
   "cell_type": "markdown",
   "metadata": {},
   "source": [
    "# Split proportions:"
   ]
  },
  {
   "cell_type": "code",
   "execution_count": 63,
   "metadata": {},
   "outputs": [
    {
     "name": "stdout",
     "output_type": "stream",
     "text": [
      "Total number of scans: 21744 (train/test: 19530/2214, 0.898/0.102)\n",
      "Total number of slices: 752803 (train/test: 674258/78545, 0.896/0.104)\n"
     ]
    }
   ],
   "source": [
    "scans_num = len(df.groupby(['SeriesInstanceUID']))\n",
    "scans_train_num = len(df[df.subset == \"train\"].groupby(['SeriesInstanceUID']))\n",
    "scans_test_num = len(df[df.subset == \"test\"].groupby(['SeriesInstanceUID']))\n",
    "\n",
    "print(\"Total number of scans: {} (train/test: {}/{}, {:.3f}/{:.3f})\".format(\n",
    "    scans_num, scans_train_num, scans_test_num, \n",
    "    scans_train_num / scans_num,\n",
    "    scans_test_num / scans_num\n",
    "))\n",
    "\n",
    "slices_num = len(df)\n",
    "slices_train_num =  len(df[df.subset == \"train\"])\n",
    "slices_test_num =  len(df[df.subset == \"test\"])\n",
    "\n",
    "print(\"Total number of slices: {} (train/test: {}/{}, {:.3f}/{:.3f})\".format(\n",
    "    slices_num, slices_train_num, slices_test_num,\n",
    "    slices_train_num / slices_num, \n",
    "    slices_test_num / slices_num\n",
    "))\n"
   ]
  },
  {
   "cell_type": "markdown",
   "metadata": {},
   "source": [
    "The distribution of slices between scans for training split and test split is similar."
   ]
  },
  {
   "cell_type": "markdown",
   "metadata": {},
   "source": [
    "# Positive samples for full scans"
   ]
  },
  {
   "cell_type": "code",
   "execution_count": 49,
   "metadata": {},
   "outputs": [
    {
     "name": "stdout",
     "output_type": "stream",
     "text": [
      "Total number of scans: 19530\n"
     ]
    },
    {
     "data": {
      "text/plain": [
       "<matplotlib.axes._subplots.AxesSubplot at 0x7f25646c29b0>"
      ]
     },
     "execution_count": 49,
     "metadata": {},
     "output_type": "execute_result"
    },
    {
     "data": {
      "image/png": "[encoded data removed]",
      "text/plain": [
       "<Figure size 432x288 with 1 Axes>"
      ]
     },
     "metadata": {
      "needs_background": "light"
     },
     "output_type": "display_data"
    }
   ],
   "source": [
    "series = df[df.subset == \"train\"].groupby(['SeriesInstanceUID']).agg({\"any\": \"sum\"})\n",
    "series['is_positive'] = (series[\"any\"] > 0).astype('int32')\n",
    "\n",
    "series.is_positive.hist(bins=3)\n"
   ]
  },
  {
   "cell_type": "markdown",
   "metadata": {},
   "source": [
    "# Positive samples for slices"
   ]
  },
  {
   "cell_type": "code",
   "execution_count": 51,
   "metadata": {},
   "outputs": [
    {
     "data": {
      "text/plain": [
       "<matplotlib.axes._subplots.AxesSubplot at 0x7f2564715080>"
      ]
     },
     "execution_count": 51,
     "metadata": {},
     "output_type": "execute_result"
    },
    {
     "data": {
      "image/png": "[encoded data removed]",
      "text/plain": [
       "<Figure size 432x288 with 1 Axes>"
      ]
     },
     "metadata": {
      "needs_background": "light"
     },
     "output_type": "display_data"
    }
   ],
   "source": [
    "df[df.subset == \"train\"][\"any\"].hist(bins=3)"
   ]
  },
  {
   "cell_type": "markdown",
   "metadata": {},
   "source": [
    "# Outliers"
   ]
  },
  {
   "cell_type": "markdown",
   "metadata": {},
   "source": [
    "### Variable size"
   ]
  },
  {
   "cell_type": "code",
   "execution_count": 4,
   "metadata": {},
   "outputs": [
    {
     "data": {
      "text/plain": [
       "array([512, 464, 462, 638, 408, 768, 436, 430, 666])"
      ]
     },
     "execution_count": 4,
     "metadata": {},
     "output_type": "execute_result"
    }
   ],
   "source": [
    "df.Rows.unique()"
   ]
  },
  {
   "cell_type": "code",
   "execution_count": 5,
   "metadata": {},
   "outputs": [
    {
     "data": {
      "text/plain": [
       "array([512, 464, 462, 490, 374, 768, 436, 404])"
      ]
     },
     "execution_count": 5,
     "metadata": {},
     "output_type": "execute_result"
    }
   ],
   "source": [
    "df.Columns.unique()"
   ]
  },
  {
   "cell_type": "markdown",
   "metadata": {},
   "source": [
    "# PixelSpacing"
   ]
  },
  {
   "cell_type": "code",
   "execution_count": 73,
   "metadata": {},
   "outputs": [
    {
     "data": {
      "text/plain": [
       "<matplotlib.axes._subplots.AxesSubplot at 0x7f2564e238d0>"
      ]
     },
     "execution_count": 73,
     "metadata": {},
     "output_type": "execute_result"
    },
    {
     "data": {
      "image/png": "[encoded data removed]",
      "text/plain": [
       "<Figure size 432x288 with 1 Axes>"
      ]
     },
     "metadata": {
      "needs_background": "light"
     },
     "output_type": "display_data"
    }
   ],
   "source": [
    "spacing = pd.DataFrame(df.PixelSpacing.values.tolist(), columns=['x','y'])\n",
    "len(spacing[spacing.x != spacing.y])\n",
    "spacing.x.hist()"
   ]
  },
  {
   "cell_type": "code",
   "execution_count": null,
   "metadata": {},
   "outputs": [],
   "source": []
  }
 ],
 "metadata": {
  "kernelspec": {
   "display_name": "Python 3",
   "language": "python",
   "name": "python3"
  },
  "language_info": {
   "codemirror_mode": {
    "name": "ipython",
    "version": 3
   },
   "file_extension": ".py",
   "mimetype": "text/x-python",
   "name": "python",
   "nbconvert_exporter": "python",
   "pygments_lexer": "ipython3",
   "version": "3.6.8"
  }
 },
 "nbformat": 4,
 "nbformat_minor": 2
}
